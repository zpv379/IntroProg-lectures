{
 "cells": [
  {
   "attachments": {},
   "cell_type": "markdown",
   "metadata": {},
   "source": [
    "# Course material recap"
   ]
  },
  {
   "attachments": {},
   "cell_type": "markdown",
   "metadata": {},
   "source": [
    "**Table of contents**<a id='toc0_'></a>    \n",
    "- 1. [Lambda functions](#toc1_)    \n",
    "- 2. [Algorithms](#toc2_)    \n",
    "  - 2.1. [Simple example: $\\max\\{ \\ell\\}$](#toc2_1_)    \n",
    "\n",
    "<!-- vscode-jupyter-toc-config\n",
    "\tnumbering=true\n",
    "\tanchor=true\n",
    "\tflat=false\n",
    "\tminLevel=2\n",
    "\tmaxLevel=6\n",
    "\t/vscode-jupyter-toc-config -->\n",
    "<!-- THIS CELL WILL BE REPLACED ON TOC UPDATE. DO NOT WRITE YOUR TEXT IN THIS CELL -->"
   ]
  },
  {
   "cell_type": "code",
   "execution_count": 12,
   "metadata": {},
   "outputs": [],
   "source": [
    "from scipy import optimize"
   ]
  },
  {
   "attachments": {},
   "cell_type": "markdown",
   "metadata": {},
   "source": [
    "## 1. <a id='toc1_'></a>[Lambda functions](#toc0_)"
   ]
  },
  {
   "attachments": {},
   "cell_type": "markdown",
   "metadata": {},
   "source": [
    "Lambda functiosn is a syntax-light way to create a function. You can do less with them, but the function is the same"
   ]
  },
  {
   "cell_type": "code",
   "execution_count": 13,
   "metadata": {},
   "outputs": [
    {
     "name": "stdout",
     "output_type": "stream",
     "text": [
      "4\n",
      "4\n"
     ]
    }
   ],
   "source": [
    "sq_func = lambda x: x**2\n",
    "def same_sq_func(x):\n",
    "    '''The function is them same as the lambda function above'''\n",
    "    return x**2\n",
    "\n",
    "print(sq_func(2))\n",
    "print(same_sq_func(2))"
   ]
  },
  {
   "attachments": {},
   "cell_type": "markdown",
   "metadata": {},
   "source": [
    "But the way they are defined, emphasizes the interesting fact that python functions are objects, and can be passed around as such. For example as arguments to other functions."
   ]
  },
  {
   "cell_type": "code",
   "execution_count": 14,
   "metadata": {},
   "outputs": [],
   "source": [
    "def minimize_func(func,x):\n",
    "    '''Minimize the function func with the initial guess x'''\n",
    "    return optimize.minimize(func,x).x"
   ]
  },
  {
   "cell_type": "code",
   "execution_count": 15,
   "metadata": {},
   "outputs": [
    {
     "name": "stdout",
     "output_type": "stream",
     "text": [
      "[-1.88846401e-08]\n",
      "[-1.88846401e-08]\n"
     ]
    }
   ],
   "source": [
    "print(minimize_func(sq_func,2))\n",
    "print(minimize_func(same_sq_func,2))"
   ]
  },
  {
   "cell_type": "code",
   "execution_count": 16,
   "metadata": {},
   "outputs": [
    {
     "name": "stdout",
     "output_type": "stream",
     "text": [
      "[0.99999999]\n"
     ]
    }
   ],
   "source": [
    "new_func = lambda x: (x-1)**2\n",
    "print(minimize_func(new_func,2))"
   ]
  },
  {
   "attachments": {},
   "cell_type": "markdown",
   "metadata": {},
   "source": [
    "## 2. <a id='toc2_'></a>[Algorithms](#toc0_)"
   ]
  },
  {
   "attachments": {},
   "cell_type": "markdown",
   "metadata": {},
   "source": [
    "Algortihms are a sequence of steps to solve a problem. <br>\n",
    "In this course you're experience with them comes from two directions:\n",
    "- You'll be given pseudo code (human language) and you'll have to implement it in python\n",
    "- You'll be given a problem and you'll have to come up with an algorithm to solve it\n",
    "\n",
    "In the second case you'll maybe not even be aware that you're using an algorithm, since you are just problem solving. Reading through and understanding the algorithm lectures are however likely to strengthen you're mental framework for problem solving and creating you're own algorithms."
   ]
  },
  {
   "attachments": {},
   "cell_type": "markdown",
   "metadata": {},
   "source": [
    "**Example from the lecture:**"
   ]
  },
  {
   "attachments": {},
   "cell_type": "markdown",
   "metadata": {},
   "source": [
    "### 2.1. <a id='toc2_1_'></a>[Simple example: $\\max\\{ \\ell\\}$](#toc0_)"
   ]
  },
  {
   "attachments": {},
   "cell_type": "markdown",
   "metadata": {},
   "source": [
    "**Problem:** Given a list of positive numbers, return the largest number in the list.\n",
    "\n",
    "**Inputs:** A list `L` of positive numbers.\n",
    "\n",
    "**Outputs:** A number.\n",
    "\n",
    "**Algorithm:** `find_max()`\n",
    "    \n",
    "  1. Set `maxL` to 0.\n",
    "  2. For each `x` in the list `L`, compare it to `maxL`. If `x` is larger, set `maxL` to `x`.\n",
    "  3. `maxL` is now set to the largest number in the list.\n",
    "  \n",
    "> **Note:** The above is called **pseudo-code** (understandable across programming languages)."
   ]
  },
  {
   "attachments": {},
   "cell_type": "markdown",
   "metadata": {},
   "source": [
    "**Implementation** in Python:"
   ]
  },
  {
   "cell_type": "code",
   "execution_count": 17,
   "metadata": {},
   "outputs": [],
   "source": [
    "def find_max(L):\n",
    "    maxL = 0\n",
    "    for x in L:\n",
    "        if x > maxL:\n",
    "            maxL = x\n",
    "    return maxL"
   ]
  },
  {
   "cell_type": "code",
   "execution_count": 18,
   "metadata": {},
   "outputs": [
    {
     "data": {
      "text/plain": [
       "4534"
      ]
     },
     "execution_count": 18,
     "metadata": {},
     "output_type": "execute_result"
    }
   ],
   "source": [
    "L = [12,3,4,4,-123,4534,1223,4]\n",
    "find_max(L)"
   ]
  }
 ],
 "metadata": {
  "kernelspec": {
   "display_name": "base",
   "language": "python",
   "name": "python3"
  },
  "language_info": {
   "codemirror_mode": {
    "name": "ipython",
    "version": 3
   },
   "file_extension": ".py",
   "mimetype": "text/x-python",
   "name": "python",
   "nbconvert_exporter": "python",
   "pygments_lexer": "ipython3",
   "version": "3.9.15"
  },
  "orig_nbformat": 4
 },
 "nbformat": 4,
 "nbformat_minor": 2
}
