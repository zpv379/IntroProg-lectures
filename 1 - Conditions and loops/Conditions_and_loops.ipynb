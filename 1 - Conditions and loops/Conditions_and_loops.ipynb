{
 "cells": [
  {
   "cell_type": "markdown",
   "metadata": {},
   "source": [
    "# Conditions and loops"
   ]
  },
  {
   "cell_type": "markdown",
   "metadata": {},
   "source": [
    "**Table of contents**<a id='toc0_'></a>    \n",
    "- 1. [Conditionals](#toc1_)    \n",
    "- 2. [Basics of looping](#toc2_)    \n",
    "  - 2.1. [More complex loops](#toc2_1_)    \n",
    "  - 2.2. [Dictionaries](#toc2_2_)    \n",
    "  - 2.3. [Summary](#toc2_3_)    \n",
    "\n",
    "<!-- vscode-jupyter-toc-config\n",
    "\tnumbering=true\n",
    "\tanchor=true\n",
    "\tflat=false\n",
    "\tminLevel=2\n",
    "\tmaxLevel=6\n",
    "\t/vscode-jupyter-toc-config -->\n",
    "<!-- THIS CELL WILL BE REPLACED ON TOC UPDATE. DO NOT WRITE YOUR TEXT IN THIS CELL -->"
   ]
  },
  {
   "cell_type": "markdown",
   "metadata": {},
   "source": [
    "## 1. <a id='toc1_'></a>[Conditionals](#toc0_)"
   ]
  },
  {
   "cell_type": "markdown",
   "metadata": {
    "slideshow": {
     "slide_type": "fragment"
    },
    "tags": []
   },
   "source": [
    "You typically want your program to do one thing if some condition is met, and another thing if another condition is met. \n",
    "\n",
    "In Python this is done with **conditional statments**:"
   ]
  },
  {
   "cell_type": "code",
   "execution_count": 1,
   "metadata": {
    "slideshow": {
     "slide_type": "fragment"
    },
    "tags": []
   },
   "outputs": [
    {
     "name": "stdout",
     "output_type": "stream",
     "text": [
      "fourth possiblity\n"
     ]
    }
   ],
   "source": [
    "x = 3\n",
    "if x < 2: \n",
    "    # happens if x is smaller than 2\n",
    "    print('first possibility')    \n",
    "elif x > 4: # elif = else if\n",
    "    # happens if x is not smaller than 2 and x is larger than 4\n",
    "    print('second possibility')\n",
    "elif x < 0:\n",
    "    # happens if x is not smaller than 2, x is not larger than 4\n",
    "    #  and x is smaller than 0\n",
    "    print('third posibility') # note: this can never happen\n",
    "else:\n",
    "    # happens if x is not smaller than 2, x is not larger than 4\n",
    "    #  and x is not smaller than 0\n",
    "    print('fourth possiblity')  \n",
    "    "
   ]
  },
  {
   "attachments": {},
   "cell_type": "markdown",
   "metadata": {
    "slideshow": {
     "slide_type": "skip"
    },
    "tags": []
   },
   "source": [
    "**Note:**\n",
    "\n",
    "1. \"elif\" is short for \"else if\" \n",
    "2. the **indentation** after if, elif and else is required (tabs or spaces, typically 4)"
   ]
  },
  {
   "cell_type": "markdown",
   "metadata": {
    "slideshow": {
     "slide_type": "skip"
    },
    "tags": []
   },
   "source": [
    "An **equivalent formulation** of the above if-elif-else statement is:"
   ]
  },
  {
   "cell_type": "code",
   "execution_count": 2,
   "metadata": {
    "slideshow": {
     "slide_type": "skip"
    },
    "tags": []
   },
   "outputs": [
    {
     "name": "stdout",
     "output_type": "stream",
     "text": [
      "first possibility\n"
     ]
    }
   ],
   "source": [
    "x = -1\n",
    "cond_1 = x < 2 # a boolean (True or False)\n",
    "cond_2 = x > 4 # a boolean (True or False)\n",
    "cond_3 = x < 0 # a boolean (True or False)\n",
    "if cond_1: \n",
    "    print('first possibility')\n",
    "elif cond_2:\n",
    "    print('second possibility')\n",
    "elif cond_3:\n",
    "    print('third posibility')\n",
    "else:\n",
    "    print('fourth possiblity')"
   ]
  },
  {
   "cell_type": "markdown",
   "metadata": {
    "slideshow": {
     "slide_type": "skip"
    },
    "tags": []
   },
   "source": [
    "The above can also be written purely in terms of if-statements:"
   ]
  },
  {
   "cell_type": "code",
   "execution_count": 3,
   "metadata": {
    "slideshow": {
     "slide_type": "skip"
    },
    "tags": []
   },
   "outputs": [
    {
     "name": "stdout",
     "output_type": "stream",
     "text": [
      "first possibility\n"
     ]
    }
   ],
   "source": [
    "if cond_1: \n",
    "    print('first possibility')\n",
    "if not cond_1 and cond_2:\n",
    "    print('second possibility')\n",
    "if not (cond_1 or cond_2) and cond_3:\n",
    "    print('third posibility')\n",
    "if not (cond_1 or cond_2 or cond_3):\n",
    "    print('fourth possiblity')"
   ]
  },
  {
   "attachments": {},
   "cell_type": "markdown",
   "metadata": {},
   "source": [
    "### True/False definitions of other types:"
   ]
  },
  {
   "attachments": {},
   "cell_type": "markdown",
   "metadata": {},
   "source": [
    "If you place non-boolean types after the `if` statement, Python will transfer it to a boolean value by calling `bool()` on it. <br>\n",
    "This can be useful, but you should be careful."
   ]
  },
  {
   "cell_type": "code",
   "execution_count": 4,
   "metadata": {},
   "outputs": [
    {
     "name": "stdout",
     "output_type": "stream",
     "text": [
      "y is not empty\n"
     ]
    }
   ],
   "source": [
    "y = [1,2]\n",
    "if y:\n",
    "    print('y is not empty')"
   ]
  },
  {
   "cell_type": "code",
   "execution_count": 5,
   "metadata": {},
   "outputs": [
    {
     "name": "stdout",
     "output_type": "stream",
     "text": [
      "bool([1,2]) =  True\n",
      "bool([]) =  False\n",
      "bool(0) =  False\n",
      "bool(5) =  True\n"
     ]
    }
   ],
   "source": [
    "print('bool([1,2]) = ',bool([1,2]))\n",
    "print('bool([]) = ',bool([])) # Checks if list is empty\n",
    "print('bool(0) = ',bool(0))\n",
    "print('bool(5) = ',bool(5)) # This is true for all integers that are not 0 (also negative)"
   ]
  },
  {
   "cell_type": "code",
   "execution_count": 6,
   "metadata": {},
   "outputs": [
    {
     "name": "stdout",
     "output_type": "stream",
     "text": [
      "bool(0.0) =  False\n",
      "bool(0.2) =  True\n",
      "bool(1e-100) =  True\n",
      "1e-100 0.0000000000\n"
     ]
    }
   ],
   "source": [
    "# Don't do this with floats\n",
    "print('bool(0.0) = ',bool(0.0))\n",
    "print('bool(0.2) = ',bool(0.2))\n",
    "close_to_zero = 1e-100\n",
    "print('bool(1e-100) = ',bool(1e-100)) # This is close to zero so should be False\n",
    "print('1e-100',f'{1e-100:.10f}')"
   ]
  },
  {
   "cell_type": "markdown",
   "metadata": {},
   "source": [
    "## 2. <a id='toc2_'></a>[Basics of looping](#toc0_)\n",
    "\n",
    "* We often need to do the same task many times over. \n",
    "* We use loops to do that. \n",
    "* **Code repetition** gives you **horrible errors** and takes time.\n",
    "* **2 kinds of loop**\n",
    "    * `for` loop: when you know how many iterations to do\n",
    "    * `while` loop: when the stopping point is unknown\n",
    "* Use **list comprehension** instead of simple for loops."
   ]
  },
  {
   "cell_type": "markdown",
   "metadata": {
    "slideshow": {
     "slide_type": "subslide"
    },
    "tags": []
   },
   "source": [
    "Never do this:"
   ]
  },
  {
   "cell_type": "code",
   "execution_count": 8,
   "metadata": {
    "slideshow": {
     "slide_type": "fragment"
    },
    "tags": []
   },
   "outputs": [
    {
     "name": "stdout",
     "output_type": "stream",
     "text": [
      "[0, 1, 4, 9, 16]\n"
     ]
    }
   ],
   "source": [
    "xs = [0,1,2,3,4]\n",
    "x_sqr = []\n",
    "\n",
    "x_sqr.append(xs[0]**2)\n",
    "x_sqr.append(xs[1]**2)\n",
    "x_sqr.append(xs[2]**2)\n",
    "x_sqr.append(xs[3]**2)\n",
    "x_sqr.append(xs[4]**2)\n",
    "print(x_sqr)"
   ]
  },
  {
   "cell_type": "markdown",
   "metadata": {
    "slideshow": {
     "slide_type": "subslide"
    },
    "tags": []
   },
   "source": [
    "Use a **for loop** instead:"
   ]
  },
  {
   "cell_type": "code",
   "execution_count": 9,
   "metadata": {
    "slideshow": {
     "slide_type": "fragment"
    },
    "tags": []
   },
   "outputs": [
    {
     "data": {
      "text/plain": [
       "[0, 1, 4, 9, 16]"
      ]
     },
     "execution_count": 9,
     "metadata": {},
     "output_type": "execute_result"
    }
   ],
   "source": [
    "x_sqr = [] # empty list\n",
    "for x in xs:\n",
    "    x_sqr.append(x**2)\n",
    "x_sqr"
   ]
  },
  {
   "cell_type": "markdown",
   "metadata": {
    "slideshow": {
     "slide_type": "fragment"
    },
    "tags": []
   },
   "source": [
    "Even better: a **list comprehension**  \n",
    "List comprehension is the shortest syntax and runs faster. Use that if you can."
   ]
  },
  {
   "cell_type": "code",
   "execution_count": 10,
   "metadata": {
    "slideshow": {
     "slide_type": "fragment"
    },
    "tags": []
   },
   "outputs": [
    {
     "data": {
      "text/plain": [
       "[0, 1, 4, 9, 16]"
      ]
     },
     "execution_count": 10,
     "metadata": {},
     "output_type": "execute_result"
    }
   ],
   "source": [
    "x_sqr = [x**2 for x in xs]\n",
    "x_sqr"
   ]
  },
  {
   "attachments": {},
   "cell_type": "markdown",
   "metadata": {
    "slideshow": {
     "slide_type": "subslide"
    },
    "tags": []
   },
   "source": [
    "A **while loop**:"
   ]
  },
  {
   "cell_type": "code",
   "execution_count": 11,
   "metadata": {
    "slideshow": {
     "slide_type": "fragment"
    },
    "tags": []
   },
   "outputs": [
    {
     "name": "stdout",
     "output_type": "stream",
     "text": [
      "[0, 1, 4, 9, 16, 25]\n"
     ]
    }
   ],
   "source": [
    "i_sqr = [] # empty list\n",
    "i = 0\n",
    "while i < 6:\n",
    "    i_sqr.append(i**2)\n",
    "    i += 1\n",
    "    \n",
    "\n",
    "print(i_sqr)"
   ]
  },
  {
   "cell_type": "markdown",
   "metadata": {
    "slideshow": {
     "slide_type": "fragment"
    },
    "tags": []
   },
   "source": [
    "Use a **for loop** with **range** instead:"
   ]
  },
  {
   "cell_type": "code",
   "execution_count": 12,
   "metadata": {
    "slideshow": {
     "slide_type": "fragment"
    },
    "tags": []
   },
   "outputs": [
    {
     "name": "stdout",
     "output_type": "stream",
     "text": [
      "0\n",
      "1\n",
      "2\n",
      "3\n",
      "4\n",
      "5\n",
      "[0, 1, 4, 9, 16, 25]\n"
     ]
    }
   ],
   "source": [
    "y_list = [] # empty list\n",
    "for x in range(6):\n",
    "    print(x)\n",
    "    y_list.append(x**2)\n",
    "print(y_list)"
   ]
  },
  {
   "attachments": {},
   "cell_type": "markdown",
   "metadata": {},
   "source": [
    "Range has some additional options, if more arguments are added: `range(start,stop,step)`"
   ]
  },
  {
   "cell_type": "code",
   "execution_count": 13,
   "metadata": {},
   "outputs": [
    {
     "name": "stdout",
     "output_type": "stream",
     "text": [
      "3\n",
      "6\n",
      "9\n",
      "12\n"
     ]
    }
   ],
   "source": [
    "for x in range(3,15,3): # Note that the range still ends 1 number before stop\n",
    "    print(x)"
   ]
  },
  {
   "cell_type": "markdown",
   "metadata": {},
   "source": [
    "### 2.1. <a id='toc2_1_'></a>[More complex loops](#toc0_)\n",
    "\n",
    "Nice to know when looping in python\n",
    "* Need a count variable? For loops can be **enumerated**.\n",
    "* Need to loop over 2 lists, element-by-element? Use **zipping**.\n",
    "* You can **nest** loops. "
   ]
  },
  {
   "cell_type": "code",
   "execution_count": 14,
   "metadata": {
    "slideshow": {
     "slide_type": "subslide"
    },
    "tags": []
   },
   "outputs": [
    {
     "name": "stdout",
     "output_type": "stream",
     "text": [
      "i = 0\n",
      "i = 1\n",
      "i = 2\n",
      "i = 3\n",
      "y_list = [0, 25, 62, 120]\n"
     ]
    }
   ],
   "source": [
    "y_list = []\n",
    "x_list = [10,25,31,40]\n",
    "\n",
    "for i,x in enumerate(x_list):\n",
    "    print('i =', i)\n",
    "    y_list.append(x*i)\n",
    "print('y_list =',y_list)"
   ]
  },
  {
   "cell_type": "markdown",
   "metadata": {
    "slideshow": {
     "slide_type": "skip"
    },
    "tags": []
   },
   "source": [
    "Loops can be fine-tuned with **continue** and **break**."
   ]
  },
  {
   "cell_type": "code",
   "execution_count": 15,
   "metadata": {
    "slideshow": {
     "slide_type": "skip"
    },
    "tags": []
   },
   "outputs": [
    {
     "name": "stdout",
     "output_type": "stream",
     "text": [
      "[0, 4, 9]\n"
     ]
    }
   ],
   "source": [
    "y_list = []\n",
    "x_list = [*range(10)]\n",
    "\n",
    "for i,x in enumerate(x_list):\n",
    "    if i == 1:\n",
    "        continue # go to next iteration \n",
    "    elif i == 4:\n",
    "    \n",
    "        break # stop loop prematurely\n",
    "    y_list.append(x**2)\n",
    "print(y_list)"
   ]
  },
  {
   "cell_type": "markdown",
   "metadata": {
    "slideshow": {
     "slide_type": "skip"
    },
    "tags": []
   },
   "source": [
    "**Task:** Create a list with the 10 first positive uneven numbers."
   ]
  },
  {
   "cell_type": "code",
   "execution_count": 23,
   "metadata": {
    "slideshow": {
     "slide_type": "skip"
    },
    "tags": []
   },
   "outputs": [
    {
     "name": "stdout",
     "output_type": "stream",
     "text": [
      "[1, 3, 5, 7, 9, 11, 13, 15, 17, 19]\n",
      "the list contains the 10 first positive uneven numbers\n"
     ]
    }
   ],
   "source": [
    "# write your code here\n",
    "my_list = []\n",
    "for i in (range(1,11)):\n",
    "    my_list.append(i*2-1)\n",
    "print(my_list)\n",
    "print('the list contains the',len(my_list), 'first positive uneven numbers')"
   ]
  },
  {
   "cell_type": "markdown",
   "metadata": {
    "slideshow": {
     "slide_type": "skip"
    },
    "tags": []
   },
   "source": [
    "**Answer:**"
   ]
  },
  {
   "cell_type": "code",
   "execution_count": 24,
   "metadata": {},
   "outputs": [
    {
     "name": "stdout",
     "output_type": "stream",
     "text": [
      "[1, 3, 5, 7, 9, 11, 13, 15, 17, 19]\n"
     ]
    }
   ],
   "source": [
    "# The long way \n",
    "i = 1\n",
    "x = []\n",
    "while len(x)<10:\n",
    "    if i%2==0: # The %-operator returns the remainder after division which is 0 for even numbers\n",
    "        pass # Do nothing\n",
    "    else:\n",
    "        # Add the uneven number\n",
    "        x.append(i)\n",
    "    i +=1\n",
    "\n",
    "print(x)"
   ]
  },
  {
   "cell_type": "code",
   "execution_count": 25,
   "metadata": {},
   "outputs": [
    {
     "name": "stdout",
     "output_type": "stream",
     "text": [
      "[1, 3, 5, 7, 9, 11, 13, 15, 17, 19]\n"
     ]
    }
   ],
   "source": [
    "# The pythonic way\n",
    "my_list = [*range(1,21,2)] # The third argument means we want every second number in the range from 1 to 21 \n",
    "print(my_list)"
   ]
  },
  {
   "cell_type": "code",
   "execution_count": 26,
   "metadata": {
    "jupyter": {
     "source_hidden": true
    }
   },
   "outputs": [
    {
     "name": "stdout",
     "output_type": "stream",
     "text": [
      "[1, 3, 5, 7, 9, 11, 13, 15, 17, 19]\n"
     ]
    }
   ],
   "source": [
    "# The 'mathy' way\n",
    "my_list = []\n",
    "for i in range(1,11):\n",
    "    my_list.append(i*2-1)\n",
    "print(my_list)"
   ]
  },
  {
   "cell_type": "markdown",
   "metadata": {
    "slideshow": {
     "slide_type": "subslide"
    },
    "tags": []
   },
   "source": [
    "**Zip:** We can loop over **2 lists at the same time**:"
   ]
  },
  {
   "cell_type": "code",
   "execution_count": 27,
   "metadata": {
    "slideshow": {
     "slide_type": "fragment"
    },
    "tags": []
   },
   "outputs": [
    {
     "name": "stdout",
     "output_type": "stream",
     "text": [
      "Ia\n",
      "IIb\n",
      "IIIc\n"
     ]
    }
   ],
   "source": [
    "x = ['I', 'II', 'III']\n",
    "y = ['a', 'b', 'c']\n",
    "\n",
    "for i,j in zip(x,y):\n",
    "    print(i+j)"
   ]
  },
  {
   "cell_type": "markdown",
   "metadata": {
    "slideshow": {
     "slide_type": "fragment"
    },
    "tags": []
   },
   "source": [
    "Zipping is **not** the same as **nesting** "
   ]
  },
  {
   "cell_type": "code",
   "execution_count": 29,
   "metadata": {
    "slideshow": {
     "slide_type": "fragment"
    },
    "tags": []
   },
   "outputs": [
    {
     "name": "stdout",
     "output_type": "stream",
     "text": [
      "Ia\n",
      "Ib\n",
      "Ic\n",
      "IIa\n",
      "IIb\n",
      "IIc\n",
      "IIIa\n",
      "IIIb\n",
      "IIIc\n"
     ]
    }
   ],
   "source": [
    "# A nested loop\n",
    "for i in x:\n",
    "    for j in y:\n",
    "        print(i+j)"
   ]
  },
  {
   "cell_type": "markdown",
   "metadata": {
    "slideshow": {
     "slide_type": "skip"
    },
    "tags": []
   },
   "source": [
    "Iter(ation)tools enable us do complicated loops in a smart way. We can e.g. loop through **all combinations of elements in 2 lists**:"
   ]
  },
  {
   "cell_type": "code",
   "execution_count": 30,
   "metadata": {
    "slideshow": {
     "slide_type": "skip"
    },
    "tags": []
   },
   "outputs": [
    {
     "name": "stdout",
     "output_type": "stream",
     "text": [
      "I a\n",
      "I b\n",
      "I c\n",
      "II a\n",
      "II b\n",
      "II c\n",
      "III a\n",
      "III b\n",
      "III c\n"
     ]
    }
   ],
   "source": [
    "import itertools as it\n",
    "for i,j in it.product(x,y):\n",
    "    print(i,j)"
   ]
  },
  {
   "cell_type": "markdown",
   "metadata": {},
   "source": [
    "### 2.2. <a id='toc2_2_'></a>[Dictionaries](#toc0_)"
   ]
  },
  {
   "cell_type": "markdown",
   "metadata": {
    "slideshow": {
     "slide_type": "skip"
    },
    "tags": []
   },
   "source": [
    "We can loop throug keys, values or key-value pairs of a dictionary."
   ]
  },
  {
   "cell_type": "code",
   "execution_count": 1,
   "metadata": {
    "slideshow": {
     "slide_type": "skip"
    },
    "tags": []
   },
   "outputs": [
    {
     "name": "stdout",
     "output_type": "stream",
     "text": [
      "a\n",
      "b\n",
      "c\n"
     ]
    }
   ],
   "source": [
    "my_dict = {'a': '-', 'b': '--', 'c': '---'}\n",
    "for key in my_dict.keys():\n",
    "    print(key)"
   ]
  },
  {
   "cell_type": "code",
   "execution_count": 2,
   "metadata": {
    "slideshow": {
     "slide_type": "skip"
    },
    "tags": []
   },
   "outputs": [
    {
     "name": "stdout",
     "output_type": "stream",
     "text": [
      "-\n",
      "--\n",
      "---\n"
     ]
    }
   ],
   "source": [
    "for val in my_dict.values():\n",
    "    print(val)"
   ]
  },
  {
   "cell_type": "code",
   "execution_count": 3,
   "metadata": {
    "slideshow": {
     "slide_type": "skip"
    },
    "tags": []
   },
   "outputs": [
    {
     "name": "stdout",
     "output_type": "stream",
     "text": [
      "a -\n",
      "b --\n",
      "c ---\n"
     ]
    }
   ],
   "source": [
    "for key,val in my_dict.items():\n",
    "    print(key,val)"
   ]
  },
  {
   "cell_type": "markdown",
   "metadata": {
    "slideshow": {
     "slide_type": "skip"
    },
    "tags": []
   },
   "source": [
    "We can also **check whether a key exists**:"
   ]
  },
  {
   "cell_type": "code",
   "execution_count": 4,
   "metadata": {
    "slideshow": {
     "slide_type": "skip"
    },
    "tags": []
   },
   "outputs": [
    {
     "name": "stdout",
     "output_type": "stream",
     "text": [
      "a is in my_dict with the value -\n"
     ]
    }
   ],
   "source": [
    "if 'a' in my_dict:\n",
    "    print('a is in my_dict with the value ' + my_dict['a'])\n",
    "else:\n",
    "    print('a is not in my_dict')"
   ]
  },
  {
   "cell_type": "code",
   "execution_count": 5,
   "metadata": {
    "slideshow": {
     "slide_type": "skip"
    },
    "tags": []
   },
   "outputs": [
    {
     "name": "stdout",
     "output_type": "stream",
     "text": [
      "d is not in my_dict\n"
     ]
    }
   ],
   "source": [
    "if 'd' in my_dict:\n",
    "    print('d is in my_dict with the value ' + my_dict['d'])\n",
    "else:\n",
    "    print('d is not in my_dict')"
   ]
  },
  {
   "cell_type": "markdown",
   "metadata": {
    "slideshow": {
     "slide_type": "skip"
    },
    "tags": []
   },
   "source": [
    "**Note:** dictionaries can do this operation very quickly without looping through all elements. So use a dictionary when lookups are relevant."
   ]
  },
  {
   "cell_type": "markdown",
   "metadata": {},
   "source": [
    "### 2.3. <a id='toc2_3_'></a>[Summary](#toc0_)"
   ]
  },
  {
   "attachments": {},
   "cell_type": "markdown",
   "metadata": {
    "slideshow": {
     "slide_type": "skip"
    },
    "tags": []
   },
   "source": [
    "The new central concepts are:\n",
    "\n",
    "1. Conditionals (if, elif, else)\n",
    "2. Loops (for, while, range, enumerate, continue, break, zip)\n",
    "3. List comprehensions\n",
    "4. Itertools (product)"
   ]
  }
 ],
 "metadata": {
  "kernelspec": {
   "display_name": "Python 3",
   "language": "python",
   "name": "python3"
  },
  "language_info": {
   "codemirror_mode": {
    "name": "ipython",
    "version": 3
   },
   "file_extension": ".py",
   "mimetype": "text/x-python",
   "name": "python",
   "nbconvert_exporter": "python",
   "pygments_lexer": "ipython3",
   "version": "3.9.13"
  },
  "orig_nbformat": 4,
  "vscode": {
   "interpreter": {
    "hash": "3a51ff870275167439250c661bd9e1549ea6d98969bbf5f9ab16d16cab496595"
   }
  }
 },
 "nbformat": 4,
 "nbformat_minor": 2
}
