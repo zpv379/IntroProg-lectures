{
 "cells": [
  {
   "attachments": {},
   "cell_type": "markdown",
   "id": "4a9fd3f3-ec08-43bc-8934-11d4475814c9",
   "metadata": {},
   "source": [
    "# Change visibility status of projects"
   ]
  },
  {
   "cell_type": "code",
   "execution_count": null,
   "id": "b4a69b89-2eee-436e-857e-58966be3b7bc",
   "metadata": {},
   "outputs": [],
   "source": [
    "#%pip install PyGithub"
   ]
  },
  {
   "cell_type": "code",
   "execution_count": null,
   "id": "f9da979b-0fb8-4bf5-bc2d-2852aa3a1385",
   "metadata": {},
   "outputs": [],
   "source": [
    "from github import Github \n",
    "import sys\n",
    "import datetime\n",
    "import pandas as pd\n",
    "import numpy as np\n",
    "import random\n",
    "from collections import Counter"
   ]
  },
  {
   "cell_type": "code",
   "execution_count": null,
   "id": "f8416716-01c3-47c3-9b7e-3e14337638dc",
   "metadata": {},
   "outputs": [],
   "source": [
    "# Load personal access token\n",
    "with open(\"C:/Users/gmf123/Dropbox/github_token.txt\", mode = \"r\") as file:\n",
    "    token = file.read()\n",
    "\n",
    "year = \"2023\"    \n",
    "class_name = \"projects-\" + year"
   ]
  },
  {
   "attachments": {},
   "cell_type": "markdown",
   "id": "66bda1ab-3722-4c45-8850-8367088c6453",
   "metadata": {},
   "source": [
    "### Load all repositories in this year's class room"
   ]
  },
  {
   "cell_type": "code",
   "execution_count": null,
   "id": "cc1f2223-bbd2-4bc8-8219-8d1244d12d37",
   "metadata": {},
   "outputs": [],
   "source": [
    "# a. access github through access token.\n",
    "gh = Github(token)\n",
    "org = gh.get_organization('NumEconCopenhagen')\n",
    "all_repos = org.get_repos()\n",
    "\n",
    "# b. locate all repositories in current class\n",
    "current_class = [repo.name for repo in all_repos if class_name in repo.name]"
   ]
  },
  {
   "attachments": {},
   "cell_type": "markdown",
   "id": "05db6b56-075a-4a5d-9425-1786215b1a0d",
   "metadata": {},
   "source": [
    "### Set visibility of all repositories"
   ]
  },
  {
   "cell_type": "code",
   "execution_count": null,
   "id": "61c04db4-dcfb-4f14-b5dc-c470520db66b",
   "metadata": {},
   "outputs": [],
   "source": [
    "# change\n",
    "is_private = False\n",
    "\n",
    "# set privacy status\n",
    "for repo in all_repos:\n",
    "\n",
    "    if repo.name not in current_class: continue\n",
    "        \n",
    "    # update status    \n",
    "    repo.edit(private = is_private)"
   ]
  },
  {
   "attachments": {},
   "cell_type": "markdown",
   "id": "51eef9c4-abc7-4db1-aa03-e324dc1a9d03",
   "metadata": {},
   "source": [
    "### Check out visibility"
   ]
  },
  {
   "cell_type": "code",
   "execution_count": null,
   "id": "97f0a3f1-9537-42ca-a15b-f6af68391469",
   "metadata": {},
   "outputs": [],
   "source": [
    "for repo in all_repos:\n",
    "\n",
    "    if repo.name not in current_class: continue\n",
    "        \n",
    "    if repo.private:\n",
    "        s = \"private\"\n",
    "    else: \n",
    "        s = \"public \"\n",
    "    \n",
    "    print(s + \": \" + repo.name.removeprefix(class_name+\"-\"))"
   ]
  }
 ],
 "metadata": {
  "kernelspec": {
   "display_name": "base",
   "language": "python",
   "name": "python3"
  },
  "language_info": {
   "codemirror_mode": {
    "name": "ipython",
    "version": 3
   },
   "file_extension": ".py",
   "mimetype": "text/x-python",
   "name": "python",
   "nbconvert_exporter": "python",
   "pygments_lexer": "ipython3",
   "version": "3.9.10 | packaged by conda-forge | (main, Feb  1 2022, 21:22:07) [MSC v.1929 64 bit (AMD64)]"
  },
  "vscode": {
   "interpreter": {
    "hash": "47ef90cdf3004d3f859f1fb202523c65c07ba7c22eefd261b181f4744e2d0403"
   }
  }
 },
 "nbformat": 4,
 "nbformat_minor": 5
}
