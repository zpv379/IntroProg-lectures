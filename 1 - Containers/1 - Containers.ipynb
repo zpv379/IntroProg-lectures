{
 "cells": [
  {
   "cell_type": "markdown",
   "metadata": {},
   "source": [
    "# Containers"
   ]
  },
  {
   "cell_type": "markdown",
   "metadata": {},
   "source": [
    "**Table of contents**<a id='toc0_'></a>    \n",
    "- 1. [Lists](#toc1_)    \n",
    "  - 1.1. [Slicing a list](#toc1_1_)    \n",
    "  - 1.2. [Referencing](#toc1_2_)    \n",
    "- 2. [Tuples](#toc2_)    \n",
    "- 3. [Dictionaries](#toc3_)    \n",
    "- 4. [Summary](#toc4_)    \n",
    "- 5. [Extra](#toc5_)    \n",
    "  - 5.1. [SimpleNamespace](#toc5_1_)    \n",
    "\n",
    "<!-- vscode-jupyter-toc-config\n",
    "\tnumbering=true\n",
    "\tanchor=true\n",
    "\tflat=false\n",
    "\tminLevel=2\n",
    "\tmaxLevel=6\n",
    "\t/vscode-jupyter-toc-config -->\n",
    "<!-- THIS CELL WILL BE REPLACED ON TOC UPDATE. DO NOT WRITE YOUR TEXT IN THIS CELL -->"
   ]
  },
  {
   "attachments": {},
   "cell_type": "markdown",
   "metadata": {},
   "source": [
    "* A more complicated type of variable than atomic is a **container**.  \n",
    "* This is an object, which consists of several objects, for instance atomic types.  \n",
    "* Therefore, containers are also called **collection types**. \n",
    "* **Types of containers**\n",
    "    * Lists\n",
    "    * Tuples \n",
    "    * Dictionaries\n",
    "    * Pandas data frames\n",
    "    * ..."
   ]
  },
  {
   "cell_type": "markdown",
   "metadata": {},
   "source": [
    "## 1. <a id='toc1_'></a>[Lists](#toc0_)\n",
    "\n",
    "A first example is a **list**.  A list contains **elements** each **referencing** some data in memory."
   ]
  },
  {
   "cell_type": "code",
   "execution_count": 1,
   "metadata": {
    "slideshow": {
     "slide_type": "fragment"
    },
    "tags": []
   },
   "outputs": [
    {
     "name": "stdout",
     "output_type": "stream",
     "text": [
      "[1, 'abc'] is a <class 'list'>\n"
     ]
    }
   ],
   "source": [
    "x = [1,'abc'] \n",
    "# variable x references a list type object with elements\n",
    "# referencing 1 and 'abc'\n",
    "\n",
    "print(x,'is a', type(x))"
   ]
  },
  {
   "cell_type": "markdown",
   "metadata": {
    "slideshow": {
     "slide_type": "fragment"
    },
    "tags": []
   },
   "source": [
    "The **length** (size) of a list can be found with the **len** function."
   ]
  },
  {
   "cell_type": "code",
   "execution_count": 2,
   "metadata": {
    "slideshow": {
     "slide_type": "fragment"
    },
    "tags": []
   },
   "outputs": [
    {
     "name": "stdout",
     "output_type": "stream",
     "text": [
      "the number of elements in x is 2\n"
     ]
    }
   ],
   "source": [
    "print(f'the number of elements in x is {len(x)}')"
   ]
  },
  {
   "cell_type": "markdown",
   "metadata": {
    "slideshow": {
     "slide_type": "fragment"
    },
    "tags": []
   },
   "source": [
    "A list is **subscriptable** and starts, like everything in Python, from **index 0**. Beware!"
   ]
  },
  {
   "cell_type": "code",
   "execution_count": 3,
   "metadata": {
    "slideshow": {
     "slide_type": "fragment"
    },
    "tags": []
   },
   "outputs": [
    {
     "name": "stdout",
     "output_type": "stream",
     "text": [
      "1\n",
      "abc\n"
     ]
    }
   ],
   "source": [
    "print(x[0]) # 1st element \n",
    "print(x[1]) # 2nd element"
   ]
  },
  {
   "cell_type": "markdown",
   "metadata": {
    "slideshow": {
     "slide_type": "slide"
    },
    "tags": []
   },
   "source": [
    "A list is **mutable**, i.e. you can change its elements on the fly.  \n",
    "That is, you can change its **references** to objects."
   ]
  },
  {
   "cell_type": "code",
   "execution_count": 4,
   "metadata": {
    "slideshow": {
     "slide_type": "fragment"
    },
    "tags": []
   },
   "outputs": [
    {
     "name": "stdout",
     "output_type": "stream",
     "text": [
      "x = ['def', 2] has id = 140276796362624\n",
      "x = ['def', 5] has id = 140276796362624\n"
     ]
    }
   ],
   "source": [
    "x[0] = 'def'\n",
    "x[1] = 2\n",
    "print('x =', x, 'has id =',id(x))\n",
    "\n",
    "# Change x[1]\n",
    "x[1] = 5\n",
    "print('x =', x, 'has id =',id(x))"
   ]
  },
  {
   "cell_type": "markdown",
   "metadata": {
    "slideshow": {
     "slide_type": "fragment"
    },
    "tags": []
   },
   "source": [
    "and add more elements"
   ]
  },
  {
   "cell_type": "code",
   "execution_count": 5,
   "metadata": {
    "slideshow": {
     "slide_type": "fragment"
    },
    "tags": []
   },
   "outputs": [
    {
     "name": "stdout",
     "output_type": "stream",
     "text": [
      "['def', 5, 'wtf']\n"
     ]
    }
   ],
   "source": [
    "x.append('wtf') # add new element to end of list\n",
    "print(x)"
   ]
  },
  {
   "cell_type": "markdown",
   "metadata": {
    "slideshow": {
     "slide_type": "skip"
    },
    "tags": []
   },
   "source": [
    "**Link:** [Why is 0 the first index?](http://python-history.blogspot.com/2013/10/why-python-uses-0-based-indexing.html)  "
   ]
  },
  {
   "cell_type": "markdown",
   "metadata": {},
   "source": [
    "### 1.1. <a id='toc1_1_'></a>[Slicing a list](#toc0_)\n",
    "\n",
    "A list is **slicable**, i.e. you can extract a list from a list."
   ]
  },
  {
   "cell_type": "code",
   "execution_count": 6,
   "metadata": {
    "slideshow": {
     "slide_type": "fragment"
    },
    "tags": []
   },
   "outputs": [
    {
     "name": "stdout",
     "output_type": "stream",
     "text": [
      "[0, 1, 2]\n",
      "[1, 2]\n",
      "[0, 1, 2]\n",
      "[1, 2, 3, 4, 5]\n",
      "[0, 1, 2, 3, 4, 5]\n",
      "[0, 1, 2, 3, 4]\n",
      "<class 'list'>\n",
      "<class 'int'>\n"
     ]
    }
   ],
   "source": [
    "x = [0,1,2,3,4,5]\n",
    "print(x[0:3]) # x[0] included, x[3] not included\n",
    "print(x[1:3])\n",
    "print(x[:3])\n",
    "print(x[1:])\n",
    "print(x[:99]) # This is very particular to Python. Normally you'd get an error.  \n",
    "print(x[:-1]) # x[-1] is the last element\n",
    "\n",
    "print(type(x[:-1])) # Slicing yields a list\n",
    "print(type(x[-1])) # Unless only 1 element"
   ]
  },
  {
   "cell_type": "markdown",
   "metadata": {
    "slideshow": {
     "slide_type": "fragment"
    },
    "tags": []
   },
   "source": [
    "**Explantion:** \n",
    "* Slices are half-open intervals. \n",
    "* ``x[i:i+n]`` means starting from element ``x[i]`` and create a list of (up to) ``n`` elements.\n",
    "* Sort of nice if you have calculated ``i`` and know you need ``n`` elements. "
   ]
  },
  {
   "cell_type": "code",
   "execution_count": 7,
   "metadata": {
    "slideshow": {
     "slide_type": "skip"
    },
    "tags": []
   },
   "outputs": [
    {
     "name": "stdout",
     "output_type": "stream",
     "text": [
      "[0, 1, 2]\n",
      "[3, 4]\n",
      "[5]\n"
     ]
    }
   ],
   "source": [
    "# splitting a list at x[3] and x[5] is: \n",
    "print(x[0:3])\n",
    "print(x[3:5])\n",
    "print(x[5:])"
   ]
  },
  {
   "cell_type": "markdown",
   "metadata": {
    "slideshow": {
     "slide_type": "slide"
    },
    "tags": []
   },
   "source": [
    "**Question**: Consider the following code:"
   ]
  },
  {
   "cell_type": "code",
   "execution_count": 9,
   "metadata": {
    "slideshow": {
     "slide_type": "fragment"
    },
    "tags": []
   },
   "outputs": [
    {
     "name": "stdout",
     "output_type": "stream",
     "text": [
      "[2, 3]\n"
     ]
    }
   ],
   "source": [
    "x = [0,1,2,3,4,5]\n",
    "print(x[-4:-2])"
   ]
  },
  {
   "cell_type": "markdown",
   "metadata": {
    "slideshow": {
     "slide_type": "fragment"
    },
    "tags": []
   },
   "source": [
    "What is the result of `print(x[-4:-2])`?\n",
    "\n",
    "- **A:** [1,2,3]\n",
    "- **B:** [2,3,4]\n",
    "- **C:** [2,3]\n",
    "- **D:** [3,4]\n",
    "- **E:** Don't know"
   ]
  },
  {
   "cell_type": "markdown",
   "metadata": {},
   "source": [
    "### 1.2. <a id='toc1_2_'></a>[Referencing](#toc0_)\n",
    "**Container types, incl. lists, are non-atomic** \n",
    "* Several variables can refer to the **same** list.\n",
    "* If you change the data of a list that **one** variable refers to, **you change them all**.\n",
    "* Variables refering to the same object has the same id."
   ]
  },
  {
   "cell_type": "code",
   "execution_count": 10,
   "metadata": {
    "slideshow": {
     "slide_type": "fragment"
    },
    "tags": []
   },
   "outputs": [
    {
     "name": "stdout",
     "output_type": "stream",
     "text": [
      "initial x = [1, 2, 3]\n",
      "id of x is 140276779120256\n",
      "id of y is 140276779120256\n",
      "x = [2, 2, 3]\n"
     ]
    }
   ],
   "source": [
    "x = [1,2,3]\n",
    "print('initial x =',x)\n",
    "print('id of x is',id(x))\n",
    "y = x # y now references the same list as x\n",
    "print('id of y is',id(y))\n",
    "y[0] = 2 # change the first element in the list y\n",
    "print('x =',x) # x is also changed because it references the same list as y"
   ]
  },
  {
   "cell_type": "markdown",
   "metadata": {
    "slideshow": {
     "slide_type": "slide"
    },
    "tags": []
   },
   "source": [
    "If you want to know if two variables contain the same reference, use the **is** operator. "
   ]
  },
  {
   "cell_type": "code",
   "execution_count": 11,
   "metadata": {
    "slideshow": {
     "slide_type": "fragment"
    },
    "tags": []
   },
   "outputs": [
    {
     "name": "stdout",
     "output_type": "stream",
     "text": [
      "True\n",
      "False\n"
     ]
    }
   ],
   "source": [
    "print(y is x) \n",
    "z = [1,2]\n",
    "w = [1,2] \n",
    "print(z is w) # z and w have the same numerical content, but do not reference the same object. "
   ]
  },
  {
   "cell_type": "markdown",
   "metadata": {
    "slideshow": {
     "slide_type": "fragment"
    },
    "tags": []
   },
   "source": [
    "**Conclusion:** The `=` sign copy the reference, not the content!"
   ]
  },
  {
   "cell_type": "markdown",
   "metadata": {
    "slideshow": {
     "slide_type": "skip"
    },
    "tags": []
   },
   "source": [
    "Atomic types cannot be changed and keep their identity."
   ]
  },
  {
   "cell_type": "code",
   "execution_count": 12,
   "metadata": {
    "slideshow": {
     "slide_type": "skip"
    },
    "tags": []
   },
   "outputs": [
    {
     "name": "stdout",
     "output_type": "stream",
     "text": [
      "True\n",
      "15 10\n",
      "False\n"
     ]
    }
   ],
   "source": [
    "z = 10\n",
    "w = z\n",
    "print(z is w) # w is now the same reference as z\n",
    "z += 5\n",
    "print(z, w)\n",
    "print(z is w) # z was overwritten in the augmentation statement. "
   ]
  },
  {
   "cell_type": "markdown",
   "metadata": {
    "slideshow": {
     "slide_type": "skip"
    },
    "tags": []
   },
   "source": [
    "If one variable is deleted, the other one still references the list."
   ]
  },
  {
   "cell_type": "code",
   "execution_count": 13,
   "metadata": {
    "slideshow": {
     "slide_type": "skip"
    },
    "tags": []
   },
   "outputs": [
    {
     "name": "stdout",
     "output_type": "stream",
     "text": [
      "[2, 2, 3]\n"
     ]
    }
   ],
   "source": [
    "del x # delete the variable x\n",
    "print(y)"
   ]
  },
  {
   "cell_type": "markdown",
   "metadata": {
    "slideshow": {
     "slide_type": "slide"
    },
    "tags": []
   },
   "source": [
    "Containers should be **copied** by using the copy-module:"
   ]
  },
  {
   "cell_type": "code",
   "execution_count": 14,
   "metadata": {
    "slideshow": {
     "slide_type": "fragment"
    },
    "tags": []
   },
   "outputs": [
    {
     "name": "stdout",
     "output_type": "stream",
     "text": [
      "[2, 2, 3]\n",
      "[1, 2, 3]\n",
      "False\n"
     ]
    }
   ],
   "source": [
    "from copy import copy\n",
    "\n",
    "x = [1,2,3]\n",
    "y = copy(x) # y now a copy of x\n",
    "y[0] = 2\n",
    "print(y)\n",
    "print(x) # x is not changed when y is changed\n",
    "print(x is y) # as they are not the same reference"
   ]
  },
  {
   "cell_type": "markdown",
   "metadata": {
    "slideshow": {
     "slide_type": "fragment"
    },
    "tags": []
   },
   "source": [
    "or by slicing:"
   ]
  },
  {
   "cell_type": "code",
   "execution_count": 15,
   "metadata": {
    "slideshow": {
     "slide_type": "fragment"
    },
    "tags": []
   },
   "outputs": [
    {
     "name": "stdout",
     "output_type": "stream",
     "text": [
      "[2, 2, 3]\n",
      "[1, 2, 3]\n"
     ]
    }
   ],
   "source": [
    "x = [1,2,3]\n",
    "y = x[:] # y now a copy of x\n",
    "y[0] = 2\n",
    "print(y)\n",
    "print(x) # x is not changed when y is changed"
   ]
  },
  {
   "cell_type": "markdown",
   "metadata": {
    "slideshow": {
     "slide_type": "fragment"
    },
    "tags": []
   },
   "source": [
    "**Advanced**: A **deepcopy** is necessary, when the list contains mutable objects."
   ]
  },
  {
   "cell_type": "code",
   "execution_count": 16,
   "metadata": {
    "slideshow": {
     "slide_type": "skip"
    },
    "tags": []
   },
   "outputs": [
    {
     "name": "stdout",
     "output_type": "stream",
     "text": [
      "[[10, 2, 3], 2, 1]\n",
      "[[10, 2, 3], 2, 3]\n",
      "[[1, 2, 3], 2, 3]\n"
     ]
    }
   ],
   "source": [
    "from copy import deepcopy\n",
    "\n",
    "a = [1,2,3]\n",
    "x = [a,2,3] # x is a list of a list and two integers\n",
    "y1 = copy(x) # y1 now a copy x\n",
    "y2 = deepcopy(x) # y2 is a deep copy\n",
    "\n",
    "a[0] = 10 # change1\n",
    "x[-1] = 1 # change2\n",
    "print(x) # Both changes happened\n",
    "print(y1) # y1[0] reference the same list as x[0]. Only change1 happened \n",
    "print(y2) # y2[0] is a copy of the original list referenced by x[0]"
   ]
  },
  {
   "cell_type": "markdown",
   "metadata": {
    "slideshow": {
     "slide_type": "skip"
    },
    "tags": []
   },
   "source": [
    "**Question**: Consider the following code:"
   ]
  },
  {
   "cell_type": "code",
   "execution_count": 17,
   "metadata": {
    "slideshow": {
     "slide_type": "skip"
    },
    "tags": []
   },
   "outputs": [
    {
     "name": "stdout",
     "output_type": "stream",
     "text": [
      "[3, 2, 1]\n"
     ]
    }
   ],
   "source": [
    "x = [1,2,3]\n",
    "y = [x,x]\n",
    "z = x\n",
    "z[0] = 3\n",
    "z[2] = 1\n",
    "print(y[0])"
   ]
  },
  {
   "cell_type": "markdown",
   "metadata": {
    "slideshow": {
     "slide_type": "skip"
    },
    "tags": []
   },
   "source": [
    "What is the result of `print(y[0])`?\n",
    "\n",
    "- **A:** 1\n",
    "- **B:** 3\n",
    "- **C:** [3,2,1]\n",
    "- **D:** [1,2,3]\n",
    "- **E:** Don't know"
   ]
  },
  {
   "cell_type": "markdown",
   "metadata": {},
   "source": [
    "## 2. <a id='toc2_'></a>[Tuples](#toc0_)\n",
    "\n",
    "* A **tuple** is an **immutable list**.\n",
    "* Tuples are created with soft parenthesis, `t = (1,3,9)`.\n",
    "* As with lists, elements are accessed by brackets, `t[0]`. \n",
    "* **Immutable:** `t[0]=10` will produce an error.\n",
    "* We use tuples to pass variables around that should not change by accident.  \n",
    "* **Functions** will **output** tuples if you specify multiple output variables.\n",
    "* Tuples can also be used as arguments to function."
   ]
  },
  {
   "cell_type": "code",
   "execution_count": 18,
   "metadata": {
    "slideshow": {
     "slide_type": "fragment"
    },
    "tags": []
   },
   "outputs": [
    {
     "name": "stdout",
     "output_type": "stream",
     "text": [
      "x = (1, 2, 3) is a <class 'tuple'>\n",
      "x[2] = 3 is a <class 'int'>\n",
      "x[:2] = (1, 2) is a <class 'tuple'>\n"
     ]
    }
   ],
   "source": [
    "x = (1,2,3) # note: parentheses instead of square backets\n",
    "print('x =',x,'is a',type(x))\n",
    "print('x[2] =', x[2], 'is a', type(x[2]))\n",
    "print('x[:2] =', x[:2], 'is a', type(x[:2]))"
   ]
  },
  {
   "cell_type": "markdown",
   "metadata": {},
   "source": [
    "But it **cannot be changed** (it is immutable):"
   ]
  },
  {
   "cell_type": "code",
   "execution_count": 20,
   "metadata": {},
   "outputs": [
    {
     "name": "stdout",
     "output_type": "stream",
     "text": [
      "did NOT succeed in setting x[0]=2\n",
      "(1, 2, 3)\n"
     ]
    }
   ],
   "source": [
    "try: # try to run this block\n",
    "    x[0] = 2\n",
    "    print('did succeed in setting x[0]=2')\n",
    "except: # if any error found run this block instead\n",
    "    print('did NOT succeed in setting x[0]=2')\n",
    "print(x)"
   ]
  },
  {
   "attachments": {},
   "cell_type": "markdown",
   "metadata": {},
   "source": [
    "## 3. <a id='toc3_'></a>[Dictionaries](#toc0_)\n",
    "\n",
    "* A **dictionary** is a **key-based** container. \n",
    "* Lists and tuples use numerical indices.\n",
    "* Initialized with curly brackets. `d={}` is an empty dictionary.\n",
    "* Should be used when you need to look up data quickly by a name.\n",
    "* Arch example: a **phone book**.  \n",
    "    You know the name of a person (*key*), and want the phone number (*value*).\n",
    "* Frequent use: want to make a **collection** of variables or parameters used in a model. \n",
    "* **Keys:** All immutable objects are valid keys (eg. `str` or `int`).\n",
    "* **Values:** Fully unrestricted. "
   ]
  },
  {
   "cell_type": "code",
   "execution_count": 24,
   "metadata": {
    "slideshow": {
     "slide_type": "fragment"
    },
    "tags": []
   },
   "outputs": [
    {
     "name": "stdout",
     "output_type": "stream",
     "text": [
      "x['abc'] = 1.2\n",
      "x['abc'] = 100\n"
     ]
    }
   ],
   "source": [
    "x = {'abc': 1.2, 'D': 1, 'ef': 2.74, 'G': 30} # Create a dictionary\n",
    "print(\"x['abc'] =\", x['abc']) # Extracting content\n",
    "x['abc'] = 100 # Changing content\n",
    "print(\"x['abc'] =\", x['abc'])"
   ]
  },
  {
   "cell_type": "markdown",
   "metadata": {
    "slideshow": {
     "slide_type": "skip"
    },
    "tags": []
   },
   "source": [
    "Elements of a dictionary are **extracted** using their keyword. Can be a variable "
   ]
  },
  {
   "cell_type": "code",
   "execution_count": 25,
   "metadata": {
    "slideshow": {
     "slide_type": "skip"
    },
    "tags": []
   },
   "outputs": [
    {
     "name": "stdout",
     "output_type": "stream",
     "text": [
      "100\n"
     ]
    }
   ],
   "source": [
    "key = 'abc'\n",
    "value = x[key]\n",
    "print(value)"
   ]
  },
  {
   "cell_type": "markdown",
   "metadata": {
    "slideshow": {
     "slide_type": "skip"
    },
    "tags": []
   },
   "source": [
    "**Content is deleted** using its key:"
   ]
  },
  {
   "cell_type": "code",
   "execution_count": 26,
   "metadata": {
    "slideshow": {
     "slide_type": "skip"
    },
    "tags": []
   },
   "outputs": [
    {
     "name": "stdout",
     "output_type": "stream",
     "text": [
      "{'abc': 100, 'D': 1, 'ef': 2.74, 'G': 30}\n",
      "{'D': 1, 'ef': 2.74, 'G': 30}\n"
     ]
    }
   ],
   "source": [
    "print(x)\n",
    "del x['abc']\n",
    "print(x)"
   ]
  },
  {
   "cell_type": "markdown",
   "metadata": {
    "slideshow": {
     "slide_type": "skip"
    },
    "tags": []
   },
   "source": [
    "**Task:** Create a dictionary called `capitals` with the capital names of Denmark, Sweden and Norway as values and country names as keys."
   ]
  },
  {
   "cell_type": "code",
   "execution_count": 33,
   "metadata": {},
   "outputs": [
    {
     "name": "stdout",
     "output_type": "stream",
     "text": [
      "{'denmark': 'copenhagen', 'sweden': 'stockholm', 'norway': 'oslo'}\n",
      "capital of denmark is = copenhagen\n",
      "capital of sweden is = stockholm\n",
      "capital of norway is = oslo\n"
     ]
    }
   ],
   "source": [
    "capital = {'denmark':'copenhagen', 'sweden':'stockholm', 'norway':'oslo'}\n",
    "print(capital)\n",
    "capital_of_denmark = print('capital of denmark is =', capital['denmark'])\n",
    "capital_of_sweden = print('capital of sweden is =', capital['sweden'])\n",
    "capital_of_norway = print('capital of norway is =', capital['norway'])"
   ]
  },
  {
   "cell_type": "markdown",
   "metadata": {
    "slideshow": {
     "slide_type": "skip"
    },
    "tags": []
   },
   "source": [
    "**Answer:**"
   ]
  },
  {
   "cell_type": "code",
   "execution_count": 34,
   "metadata": {
    "jupyter": {
     "source_hidden": true
    }
   },
   "outputs": [
    {
     "name": "stdout",
     "output_type": "stream",
     "text": [
      "stockholm\n"
     ]
    }
   ],
   "source": [
    "capitals = {}\n",
    "capitals['denmark'] = 'copenhagen'\n",
    "capitals['sweden'] = 'stockholm'\n",
    "capitals['norway'] = 'oslo'\n",
    "\n",
    "capital_of_sweden = capitals['sweden']\n",
    "print(capital_of_sweden)"
   ]
  },
  {
   "cell_type": "markdown",
   "metadata": {
    "slideshow": {
     "slide_type": "skip"
    },
    "tags": []
   },
   "source": [
    "**Note:** All atomic types as immutable, and only strings are subscriptable."
   ]
  },
  {
   "cell_type": "code",
   "execution_count": 35,
   "metadata": {
    "slideshow": {
     "slide_type": "skip"
    },
    "tags": []
   },
   "outputs": [
    {
     "name": "stdout",
     "output_type": "stream",
     "text": [
      "abc\n",
      "de\n",
      "f\n",
      "strings are immutable\n"
     ]
    }
   ],
   "source": [
    "x = 'abcdef'\n",
    "print(x[:3])\n",
    "print(x[3:5])\n",
    "print(x[5:])\n",
    "try:\n",
    "    x[0] = 'f'\n",
    "except:\n",
    "    print('strings are immutable')"
   ]
  },
  {
   "cell_type": "markdown",
   "metadata": {},
   "source": [
    "## 4. <a id='toc4_'></a>[Summary](#toc0_)"
   ]
  },
  {
   "cell_type": "markdown",
   "metadata": {
    "slideshow": {
     "slide_type": "skip"
    },
    "tags": []
   },
   "source": [
    "The new central concepts are:\n",
    "\n",
    "1. Containers (lists, tuples, dictionaries)\n",
    "2. Mutable/immutable\n",
    "3. Slicing of lists and tuples\n",
    "4. Referencing (copy and deepcopy)\n",
    "5. Key-value pairs for dictionaries"
   ]
  },
  {
   "cell_type": "markdown",
   "metadata": {},
   "source": [
    "## 5. <a id='toc5_'></a>[Extra](#toc0_)"
   ]
  },
  {
   "attachments": {},
   "cell_type": "markdown",
   "metadata": {
    "slideshow": {
     "slide_type": "skip"
    },
    "tags": []
   },
   "source": [
    "Other interesting containers can be found in [**collections**](https://docs.python.org/2/library/collections.html), see also for example [**sets**](https://docs.python.org/2/library/stdtypes.html#frozenset)."
   ]
  },
  {
   "cell_type": "markdown",
   "metadata": {},
   "source": [
    "### 5.1. <a id='toc5_1_'></a>[SimpleNamespace](#toc0_)"
   ]
  },
  {
   "attachments": {},
   "cell_type": "markdown",
   "metadata": {},
   "source": [
    "[SimpleNamespace](https://docs.python.org/3/library/types.html) are also sometimes handy as replacements for dictionaries. They have fewer capabilities (are not really containers) but offer shorter syntax, as they replace *x['abc']* with *x.abc*"
   ]
  },
  {
   "cell_type": "code",
   "execution_count": null,
   "metadata": {},
   "outputs": [],
   "source": [
    "from types import SimpleNamespace"
   ]
  },
  {
   "cell_type": "code",
   "execution_count": null,
   "metadata": {},
   "outputs": [],
   "source": [
    "x = {'abc': 1.2, 'D': 1, 'ef': 2.74, 'G': 30} # Re-reate a dictionary\n",
    "y = SimpleNamespace(**x)  # Turn it into a SimpleNamespace. \n",
    "# Alternatively it can be created as SimpleNamespace(abc=1.2,D=1, ef=2.74, G=30)\n",
    "\n",
    "print(y)"
   ]
  },
  {
   "attachments": {},
   "cell_type": "markdown",
   "metadata": {},
   "source": [
    "Now we reference the elements using dot notation"
   ]
  },
  {
   "cell_type": "code",
   "execution_count": null,
   "metadata": {},
   "outputs": [],
   "source": [
    "print('From Dictionary:', x['abc'])\n",
    "print('From SimpleNamespace:', y.abc)\n",
    "\n",
    "print('From Dictionary:', x['G'])\n",
    "print('From SimpleNamespace:', y.G)"
   ]
  },
  {
   "attachments": {},
   "cell_type": "markdown",
   "metadata": {},
   "source": [
    "The only reason for wanting to do this transformation is the simpler syntax as you avoid writing *['']* <br>\n",
    "But you do loose some dictionary capabilities you will learn about later in the course. You can easily turn a simple name space into a dictionary:"
   ]
  },
  {
   "cell_type": "code",
   "execution_count": null,
   "metadata": {},
   "outputs": [],
   "source": [
    "y_asdict = y.__dict__\n",
    "print(type(y_asdict))\n",
    "print(y_asdict)"
   ]
  }
 ],
 "metadata": {
  "kernelspec": {
   "display_name": "Python 3",
   "language": "python",
   "name": "python3"
  },
  "language_info": {
   "codemirror_mode": {
    "name": "ipython",
    "version": 3
   },
   "file_extension": ".py",
   "mimetype": "text/x-python",
   "name": "python",
   "nbconvert_exporter": "python",
   "pygments_lexer": "ipython3",
   "version": "3.9.13"
  },
  "orig_nbformat": 4,
  "vscode": {
   "interpreter": {
    "hash": "3a51ff870275167439250c661bd9e1549ea6d98969bbf5f9ab16d16cab496595"
   }
  }
 },
 "nbformat": 4,
 "nbformat_minor": 2
}
